{
 "cells": [
  {
   "cell_type": "code",
   "execution_count": null,
   "id": "55bf4f4a",
   "metadata": {},
   "outputs": [],
   "source": [
    "import cv2\n",
    "import face_recognition\n",
    "import os\n",
    "import numpy as np\n",
    "from datetime import datetime"
   ]
  },
  {
   "cell_type": "code",
   "execution_count": null,
   "id": "e2a2dd75",
   "metadata": {},
   "outputs": [],
   "source": [
    "#input the images\n",
    "\n",
    "path='Images'\n",
    "images=[]\n",
    "classNames=[]\n",
    "mylist=os.listdir(path)\n",
    "for cls in mylist:\n",
    "    currimg=cv2.imread(f'{path}/{cls}')\n",
    "    images.append(currimg)\n",
    "    classNames.append(os.path.splitext(cls)[0])\n",
    "print(classNames)"
   ]
  },
  {
   "cell_type": "code",
   "execution_count": null,
   "id": "99643fef",
   "metadata": {},
   "outputs": [],
   "source": [
    "#Encoding the images\n",
    "\n",
    "def EncodeImg(images):\n",
    "    encodelist=[]\n",
    "    for img in images:\n",
    "        img=cv2.cvtColor(img,cv2.COLOR_BGR2RGB)\n",
    "        encodeimg=face_recognition.face_encodings(img)[0]\n",
    "        encodelist.append(encodeimg)\n",
    "    return encodelist\n",
    "\n",
    "callencode=EncodeImg(images)\n",
    "print(\"Encoding successful\")\n",
    "\n",
    "#Checking the attendance\n",
    " \n",
    "def markAttendance(name):\n",
    "    with open('Attendance.csv','r+') as f:\n",
    "        myDataList=f.readlines()  # Avoids Duplicates\n",
    "        nameList=[]\n",
    "        for line in myDataList:\n",
    "            entry=line.split(',')\n",
    "            nameList.append(entry[0])\n",
    "        if name not in nameList:\n",
    "            now=datetime.now()#current time\n",
    "            dstring=now.strftime('%H:%M:%S')#time format\n",
    "            f.writelines(f'\\n{name},{dstring}')"
   ]
  },
  {
   "cell_type": "code",
   "execution_count": null,
   "id": "965df9b7",
   "metadata": {},
   "outputs": [],
   "source": [
    "#Taking input image from Webcam\n",
    "\n",
    "cap=cv2.VideoCapture(0)\n",
    "while True: \n",
    "    success, img=cap.read()\n",
    "    camimg=cv2.resize(img,(0,0),None,0.25,0.25)\n",
    "    camimg=cv2.cvtColor(camimg,cv2.COLOR_BGR2RGB)\n",
    "    \n",
    "    imgloc=face_recognition.face_locations(camimg)\n",
    "    imgenc=face_recognition.face_encodings(camimg,imgloc)\n",
    "    \n",
    "    for encodeface,faceloc in zip(imgenc,imgloc):\n",
    "        compare=face_recognition.compare_faces(callencode,encodeface)\n",
    "        distance=face_recognition.face_distance(callencode,encodeface)\n",
    "        #print(distance)\n",
    "        matchIndex=np.argmin(distance)\n",
    "\n",
    "        if compare[matchIndex]:\n",
    "            name=classNames[matchIndex].upper()\n",
    "            print(name)\n",
    "            y1,x2,y2,x1=faceloc\n",
    "            y1,x2,y2,x1=y1*4,x2*4,y2*4,x1*4\n",
    "            cv2.rectangle(img,(x1,y1),(x2,y2),(0,255,0),2)\n",
    "            cv2.rectangle(img,(x1,y2-35),(x2,y2),(0,255,0),cv2.FILLED)\n",
    "            cv2.putText(img,name,(x1+6,y2-6),cv2.FONT_HERSHEY_COMPLEX,1,(255,255,255),2)\n",
    "            markAttendance(name)\n",
    "    \n",
    "    \n",
    "    \n",
    "    cv2.imshow(\"WEBCAM\",img)\n",
    "    cv2.waitKey(0)\n",
    "    \n",
    "    if cv2.waitKey(1) & 0xFF == ord('q'):\n",
    "          break\n",
    "\n",
    "cap.release()\n",
    "cv2.destroyAllWindows()"
   ]
  },
  {
   "cell_type": "markdown",
   "id": "32e9aabf",
   "metadata": {},
   "source": []
  },
  {
   "cell_type": "code",
   "execution_count": null,
   "id": "0c8b06eb",
   "metadata": {},
   "outputs": [],
   "source": []
  }
 ],
 "metadata": {
  "kernelspec": {
   "display_name": "Python 3 (ipykernel)",
   "language": "python",
   "name": "python3"
  },
  "language_info": {
   "codemirror_mode": {
    "name": "ipython",
    "version": 3
   },
   "file_extension": ".py",
   "mimetype": "text/x-python",
   "name": "python",
   "nbconvert_exporter": "python",
   "pygments_lexer": "ipython3",
   "version": "3.9.7"
  }
 },
 "nbformat": 4,
 "nbformat_minor": 5
}
